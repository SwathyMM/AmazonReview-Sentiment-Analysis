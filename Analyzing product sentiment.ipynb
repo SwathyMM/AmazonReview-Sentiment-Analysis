{
 "cells": [
  {
   "cell_type": "markdown",
   "metadata": {},
   "source": [
    "#Predicting sentiment from product reviews\n",
    "\n",
    "#Import Pandas"
   ]
  },
  {
   "cell_type": "code",
   "execution_count": 2,
   "metadata": {},
   "outputs": [],
   "source": [
    "import pandas as pd"
   ]
  },
  {
   "cell_type": "markdown",
   "metadata": {},
   "source": [
    "#Read some product review data\n",
    "\n",
    "Loading reviews for a set of baby products. "
   ]
  },
  {
   "cell_type": "code",
   "execution_count": 3,
   "metadata": {},
   "outputs": [],
   "source": [
    "products = pd.read_csv('amazon_baby.csv')"
   ]
  },
  {
   "cell_type": "markdown",
   "metadata": {},
   "source": [
    "Data includes the product name, the review text and the rating of the review. "
   ]
  },
  {
   "cell_type": "code",
   "execution_count": 4,
   "metadata": {},
   "outputs": [
    {
     "data": {
      "text/html": [
       "<div>\n",
       "<style scoped>\n",
       "    .dataframe tbody tr th:only-of-type {\n",
       "        vertical-align: middle;\n",
       "    }\n",
       "\n",
       "    .dataframe tbody tr th {\n",
       "        vertical-align: top;\n",
       "    }\n",
       "\n",
       "    .dataframe thead th {\n",
       "        text-align: right;\n",
       "    }\n",
       "</style>\n",
       "<table border=\"1\" class=\"dataframe\">\n",
       "  <thead>\n",
       "    <tr style=\"text-align: right;\">\n",
       "      <th></th>\n",
       "      <th>name</th>\n",
       "      <th>review</th>\n",
       "      <th>rating</th>\n",
       "    </tr>\n",
       "  </thead>\n",
       "  <tbody>\n",
       "    <tr>\n",
       "      <th>0</th>\n",
       "      <td>Planetwise Flannel Wipes</td>\n",
       "      <td>These flannel wipes are OK, but in my opinion ...</td>\n",
       "      <td>3</td>\n",
       "    </tr>\n",
       "    <tr>\n",
       "      <th>1</th>\n",
       "      <td>Planetwise Wipe Pouch</td>\n",
       "      <td>it came early and was not disappointed. i love...</td>\n",
       "      <td>5</td>\n",
       "    </tr>\n",
       "    <tr>\n",
       "      <th>2</th>\n",
       "      <td>Annas Dream Full Quilt with 2 Shams</td>\n",
       "      <td>Very soft and comfortable and warmer than it l...</td>\n",
       "      <td>5</td>\n",
       "    </tr>\n",
       "    <tr>\n",
       "      <th>3</th>\n",
       "      <td>Stop Pacifier Sucking without tears with Thumb...</td>\n",
       "      <td>This is a product well worth the purchase.  I ...</td>\n",
       "      <td>5</td>\n",
       "    </tr>\n",
       "    <tr>\n",
       "      <th>4</th>\n",
       "      <td>Stop Pacifier Sucking without tears with Thumb...</td>\n",
       "      <td>All of my kids have cried non-stop when I trie...</td>\n",
       "      <td>5</td>\n",
       "    </tr>\n",
       "  </tbody>\n",
       "</table>\n",
       "</div>"
      ],
      "text/plain": [
       "                                                name  \\\n",
       "0                           Planetwise Flannel Wipes   \n",
       "1                              Planetwise Wipe Pouch   \n",
       "2                Annas Dream Full Quilt with 2 Shams   \n",
       "3  Stop Pacifier Sucking without tears with Thumb...   \n",
       "4  Stop Pacifier Sucking without tears with Thumb...   \n",
       "\n",
       "                                              review  rating  \n",
       "0  These flannel wipes are OK, but in my opinion ...       3  \n",
       "1  it came early and was not disappointed. i love...       5  \n",
       "2  Very soft and comfortable and warmer than it l...       5  \n",
       "3  This is a product well worth the purchase.  I ...       5  \n",
       "4  All of my kids have cried non-stop when I trie...       5  "
      ]
     },
     "execution_count": 4,
     "metadata": {},
     "output_type": "execute_result"
    }
   ],
   "source": [
    "products.head()"
   ]
  },
  {
   "cell_type": "markdown",
   "metadata": {},
   "source": [
    "#Build the word count vector for each review"
   ]
  },
  {
   "cell_type": "code",
   "execution_count": 5,
   "metadata": {},
   "outputs": [],
   "source": [
    "from collections import Counter\n",
    "freq_count = []\n",
    "for item in products['review']:\n",
    "    count = Counter(str(item).split())\n",
    "    freq_count.append(count)"
   ]
  },
  {
   "cell_type": "code",
   "execution_count": 6,
   "metadata": {},
   "outputs": [],
   "source": [
    "freq_count\n",
    "products['word_count'] = freq_count"
   ]
  },
  {
   "cell_type": "code",
   "execution_count": 7,
   "metadata": {},
   "outputs": [
    {
     "data": {
      "text/html": [
       "<div>\n",
       "<style scoped>\n",
       "    .dataframe tbody tr th:only-of-type {\n",
       "        vertical-align: middle;\n",
       "    }\n",
       "\n",
       "    .dataframe tbody tr th {\n",
       "        vertical-align: top;\n",
       "    }\n",
       "\n",
       "    .dataframe thead th {\n",
       "        text-align: right;\n",
       "    }\n",
       "</style>\n",
       "<table border=\"1\" class=\"dataframe\">\n",
       "  <thead>\n",
       "    <tr style=\"text-align: right;\">\n",
       "      <th></th>\n",
       "      <th>name</th>\n",
       "      <th>review</th>\n",
       "      <th>rating</th>\n",
       "      <th>word_count</th>\n",
       "    </tr>\n",
       "  </thead>\n",
       "  <tbody>\n",
       "    <tr>\n",
       "      <th>0</th>\n",
       "      <td>Planetwise Flannel Wipes</td>\n",
       "      <td>These flannel wipes are OK, but in my opinion ...</td>\n",
       "      <td>3</td>\n",
       "      <td>{'These': 1, 'flannel': 1, 'wipes': 2, 'are': ...</td>\n",
       "    </tr>\n",
       "    <tr>\n",
       "      <th>1</th>\n",
       "      <td>Planetwise Wipe Pouch</td>\n",
       "      <td>it came early and was not disappointed. i love...</td>\n",
       "      <td>5</td>\n",
       "      <td>{'it': 2, 'came': 1, 'early': 1, 'and': 3, 'wa...</td>\n",
       "    </tr>\n",
       "    <tr>\n",
       "      <th>2</th>\n",
       "      <td>Annas Dream Full Quilt with 2 Shams</td>\n",
       "      <td>Very soft and comfortable and warmer than it l...</td>\n",
       "      <td>5</td>\n",
       "      <td>{'Very': 1, 'soft': 1, 'and': 2, 'comfortable'...</td>\n",
       "    </tr>\n",
       "    <tr>\n",
       "      <th>3</th>\n",
       "      <td>Stop Pacifier Sucking without tears with Thumb...</td>\n",
       "      <td>This is a product well worth the purchase.  I ...</td>\n",
       "      <td>5</td>\n",
       "      <td>{'This': 1, 'is': 4, 'a': 2, 'product': 2, 'we...</td>\n",
       "    </tr>\n",
       "    <tr>\n",
       "      <th>4</th>\n",
       "      <td>Stop Pacifier Sucking without tears with Thumb...</td>\n",
       "      <td>All of my kids have cried non-stop when I trie...</td>\n",
       "      <td>5</td>\n",
       "      <td>{'All': 1, 'of': 1, 'my': 1, 'kids': 2, 'have'...</td>\n",
       "    </tr>\n",
       "  </tbody>\n",
       "</table>\n",
       "</div>"
      ],
      "text/plain": [
       "                                                name  \\\n",
       "0                           Planetwise Flannel Wipes   \n",
       "1                              Planetwise Wipe Pouch   \n",
       "2                Annas Dream Full Quilt with 2 Shams   \n",
       "3  Stop Pacifier Sucking without tears with Thumb...   \n",
       "4  Stop Pacifier Sucking without tears with Thumb...   \n",
       "\n",
       "                                              review  rating  \\\n",
       "0  These flannel wipes are OK, but in my opinion ...       3   \n",
       "1  it came early and was not disappointed. i love...       5   \n",
       "2  Very soft and comfortable and warmer than it l...       5   \n",
       "3  This is a product well worth the purchase.  I ...       5   \n",
       "4  All of my kids have cried non-stop when I trie...       5   \n",
       "\n",
       "                                          word_count  \n",
       "0  {'These': 1, 'flannel': 1, 'wipes': 2, 'are': ...  \n",
       "1  {'it': 2, 'came': 1, 'early': 1, 'and': 3, 'wa...  \n",
       "2  {'Very': 1, 'soft': 1, 'and': 2, 'comfortable'...  \n",
       "3  {'This': 1, 'is': 4, 'a': 2, 'product': 2, 'we...  \n",
       "4  {'All': 1, 'of': 1, 'my': 1, 'kids': 2, 'have'...  "
      ]
     },
     "execution_count": 7,
     "metadata": {},
     "output_type": "execute_result"
    }
   ],
   "source": [
    "products.head()"
   ]
  },
  {
   "cell_type": "code",
   "execution_count": 8,
   "metadata": {},
   "outputs": [
    {
     "data": {
      "text/plain": [
       "Vulli Sophie the Giraffe Teether                                                                                                                                                                                                                                   785\n",
       "Simple Wishes Hands-Free Breastpump Bra, Pink, XS-L                                                                                                                                                                                                                562\n",
       "Infant Optics DXR-5 2.4 GHz Digital Video Baby Monitor with Night Vision                                                                                                                                                                                           561\n",
       "Baby Einstein Take Along Tunes                                                                                                                                                                                                                                     547\n",
       "Cloud b Twilight Constellation Night Light, Turtle                                                                                                                                                                                                                 520\n",
       "Fisher-Price Booster Seat, Blue/Green/Gray                                                                                                                                                                                                                         489\n",
       "Fisher-Price Rainforest Jumperoo                                                                                                                                                                                                                                   450\n",
       "Graco Nautilus 3-in-1 Car Seat, Matrix                                                                                                                                                                                                                             419\n",
       "Leachco Snoogle Total Body Pillow                                                                                                                                                                                                                                  388\n",
       "Regalo Easy Step Walk Thru Gate, White                                                                                                                                                                                                                             374\n",
       "Baby Trend Diaper Champ                                                                                                                                                                                                                                            333\n",
       "Skip Hop Zoo Pack Little Kid Backpack, Dog                                                                                                                                                                                                                         286\n",
       "NTM-910YIC - Sony Baby Call Nursery Monitor                                                                                                                                                                                                                        284\n",
       "The First Years Jet Stroller, Red/Black                                                                                                                                                                                                                            284\n",
       "Leachco Back \\'N Belly Contoured Body Pillow, Ivory                                                                                                                                                                                                                283\n",
       "North States Superyard Play Yard, Grey, 6 Panel                                                                                                                                                                                                                    281\n",
       "Fisher-Price Cradle \\'N Swing,  My Little Snugabunny                                                                                                                                                                                                               278\n",
       "Munchkin Nursery Projector and Sound System, White                                                                                                                                                                                                                 242\n",
       "Tiny Love Take-Along Arch, Sunny Stroll                                                                                                                                                                                                                            241\n",
       "Regalo Easy Open 50 Inch Super Wide Walk Thru Gate - White                                                                                                                                                                                                         238\n",
       "Fisher-Price Newborn Rock \\'n Play Sleeper, Yellow                                                                                                                                                                                                                 236\n",
       "VTech Communications Safe &amp; Sound Digital Audio Monitor                                                                                                                                                                                                        233\n",
       "BABYBJORN Potty Chair - Red                                                                                                                                                                                                                                        232\n",
       "Fisher-Price Rainforest Melodies and Lights Deluxe Gym                                                                                                                                                                                                             232\n",
       "The First Year\\'s Infant To Toddler Tub with Sling, Blue                                                                                                                                                                                                           230\n",
       "Thermos Foogo Leak-Proof Stainless Steel 10-Ounce Food Jar, Pink                                                                                                                                                                                                   226\n",
       "Summer Infant Multi-Use Deco Extra Tall Walk-Thru Gate, Bronze                                                                                                                                                                                                     219\n",
       "The First Years Ignite Stroller                                                                                                                                                                                                                                    218\n",
       "Fisher-Price Infant-To-Toddler Rocker, Blue/Green                                                                                                                                                                                                                  217\n",
       "Prince Lionheart Jumbo Toy Hammock                                                                                                                                                                                                                                 217\n",
       "                                                                                                                                                                                                                                                                  ... \n",
       "Maclaren Techno XLR Buggy Stroller Charcoal and Burnt Orange                                                                                                                                                                                                         1\n",
       "Owl Baby Piggy Money Bank Hootie Cutie (Blue)                                                                                                                                                                                                                        1\n",
       "Rubber Ducky Duck Peel &amp; Stick On Acrylic Shatterproof Mirror Wall Art Applique nursery decor                                                                                                                                                                    1\n",
       "Butterfly Decor 3&quot; Pink Mini (X-Small) Wire Bead Hanging Butterflies 3pc set - Decorate Baby Nursery Bedroom, Girls Room Ceiling Wall Decor, Wedding Birthday Party, Bridal Baby Shower, Bathroom. Decoration for Crafts, Scrapbooks, Invitations, Parties      1\n",
       "SoftPlay Cloth Book, Love                                                                                                                                                                                                                                            1\n",
       "NSSTAR Fashionable Double Color Polka Dot Design Baby Infant Kids Toddler Unisex Boys Girls Weave Knitting Warm Neck Warmer (Purple)                                                                                                                                 1\n",
       "Kawaii Baby Good Night Heavy Wetter One Size Pocket Cloth Diaper with 2 Large Microfiber Inserts &quot; Blue Dotty &quot;                                                                                                                                            1\n",
       "Sesame Street Newborn Baby Oscar the Grouch Creeper Diaper Cover Set, 3/6M                                                                                                                                                                                           1\n",
       "CleanRest Allergen Barrier Crib Mattress Cover                                                                                                                                                                                                                       1\n",
       "Silicone Teether (Pink)                                                                                                                                                                                                                                              1\n",
       "Lambs &amp; Ivy Coco Tails 4-Piece Crib Bedding Set                                                                                                                                                                                                                  1\n",
       "Engraved Silver Piggy Bank                                                                                                                                                                                                                                           1\n",
       "Okiedog Urban Celeb Tote, Caramel                                                                                                                                                                                                                                    1\n",
       "Stephan Baby Gift-to-Go Ultra Soft Plush Bear, Multi-Dot Bib, Bootie Socks and Silver Spoon Gift Set, Blue                                                                                                                                                           1\n",
       "SheetWorld Fitted Crib / Toddler Sheet - Orange Sherbert Jersey Knit - Made In USA                                                                                                                                                                                   1\n",
       "Learning Curve Dreams in Sight Mobile                                                                                                                                                                                                                                1\n",
       "&quot;It\\'s a Boy&quot; Bitsy Bundle Blue Plush Baby Rattle                                                                                                                                                                                                          1\n",
       "Safety 1st Paisley Pond Pals                                                                                                                                                                                                                                         1\n",
       "DongFan Huge Black Picture Gallery Photo Frame Memory Tree Branch Removable Wall Decor Decal Sticker (Large(5.5 ft tall), Black(Right Facing))                                                                                                                       1\n",
       "Pink and Purple Butterfly Collection Wall Art Hangings by Sweet Jojo Designs                                                                                                                                                                                         1\n",
       "Living Textiles Baby Smart Swaddle Muslin Wraps 3pk - Little Bria                                                                                                                                                                                                    1\n",
       "Bestever Pocket Pig Puppet Plush                                                                                                                                                                                                                                     1\n",
       "Camouflage Camo print Cloth Diaper                                                                                                                                                                                                                                   1\n",
       "Infant Baby Toddler Toe Blooms Newborn Barefoot Petals Flowers Sandals Shoes Socks Feet                                                                                                                                                                              1\n",
       "Born Free - 5 oz. Wide Neck Glass Bottle 2 Pack                                                                                                                                                                                                                      1\n",
       "Pear Head Album Medium                                                                                                                                                                                                                                               1\n",
       "Kidco Universial Outlet Cover 4-pack                                                                                                                                                                                                                                 1\n",
       "Bedtime Originals Champ Snoopy Fitted Crib Sheet, Yellow                                                                                                                                                                                                             1\n",
       "Pampers Thick Care Scented Baby Wipes Refill 216ct.                                                                                                                                                                                                                  1\n",
       "Grobag Little Bear Baby Sleeping Bag 1.0 Tog, 6-18Months                                                                                                                                                                                                             1\n",
       "Name: name, Length: 32417, dtype: int64"
      ]
     },
     "execution_count": 8,
     "metadata": {},
     "output_type": "execute_result"
    }
   ],
   "source": [
    "products['name'].value_counts()"
   ]
  },
  {
   "cell_type": "markdown",
   "metadata": {
    "collapsed": true
   },
   "source": [
    "#Examining the reviews for most-sold product:  'Vulli Sophie the Giraffe Teether'"
   ]
  },
  {
   "cell_type": "code",
   "execution_count": 9,
   "metadata": {},
   "outputs": [],
   "source": [
    "giraffe_reviews = products[products['name'] == 'Vulli Sophie the Giraffe Teether']"
   ]
  },
  {
   "cell_type": "code",
   "execution_count": 10,
   "metadata": {},
   "outputs": [
    {
     "data": {
      "text/plain": [
       "785"
      ]
     },
     "execution_count": 10,
     "metadata": {},
     "output_type": "execute_result"
    }
   ],
   "source": [
    "len(giraffe_reviews)"
   ]
  },
  {
   "cell_type": "code",
   "execution_count": 11,
   "metadata": {},
   "outputs": [
    {
     "data": {
      "text/plain": [
       "5    535\n",
       "4     95\n",
       "3     62\n",
       "1     56\n",
       "2     37\n",
       "Name: rating, dtype: int64"
      ]
     },
     "execution_count": 11,
     "metadata": {},
     "output_type": "execute_result"
    }
   ],
   "source": [
    "giraffe_reviews['rating'].value_counts()"
   ]
  },
  {
   "cell_type": "markdown",
   "metadata": {},
   "source": [
    "#Build a sentiment classifier"
   ]
  },
  {
   "cell_type": "code",
   "execution_count": 12,
   "metadata": {},
   "outputs": [
    {
     "data": {
      "text/plain": [
       "5    107054\n",
       "4     33205\n",
       "3     16779\n",
       "1     15183\n",
       "2     11310\n",
       "Name: rating, dtype: int64"
      ]
     },
     "execution_count": 12,
     "metadata": {},
     "output_type": "execute_result"
    }
   ],
   "source": [
    "products['rating'].value_counts()"
   ]
  },
  {
   "cell_type": "markdown",
   "metadata": {},
   "source": [
    "##Define what's a positive and a negative sentiment\n",
    "\n",
    "Ignore all reviews with rating = 3, since they tend to have a neutral sentiment.  Reviews with a rating of 4 or higher will be considered positive, while the ones with rating of 2 or lower will have a negative sentiment.   "
   ]
  },
  {
   "cell_type": "code",
   "execution_count": 13,
   "metadata": {},
   "outputs": [],
   "source": [
    "#ignore all 3* reviews\n",
    "products = products[products['rating'] != 3]"
   ]
  },
  {
   "cell_type": "code",
   "execution_count": 14,
   "metadata": {},
   "outputs": [],
   "source": [
    "#positive sentiment = 4* or 5* reviews\n",
    "products['sentiment'] = products['rating'] >=4"
   ]
  },
  {
   "cell_type": "code",
   "execution_count": 15,
   "metadata": {},
   "outputs": [
    {
     "data": {
      "text/html": [
       "<div>\n",
       "<style scoped>\n",
       "    .dataframe tbody tr th:only-of-type {\n",
       "        vertical-align: middle;\n",
       "    }\n",
       "\n",
       "    .dataframe tbody tr th {\n",
       "        vertical-align: top;\n",
       "    }\n",
       "\n",
       "    .dataframe thead th {\n",
       "        text-align: right;\n",
       "    }\n",
       "</style>\n",
       "<table border=\"1\" class=\"dataframe\">\n",
       "  <thead>\n",
       "    <tr style=\"text-align: right;\">\n",
       "      <th></th>\n",
       "      <th>name</th>\n",
       "      <th>review</th>\n",
       "      <th>rating</th>\n",
       "      <th>word_count</th>\n",
       "      <th>sentiment</th>\n",
       "    </tr>\n",
       "  </thead>\n",
       "  <tbody>\n",
       "    <tr>\n",
       "      <th>1</th>\n",
       "      <td>Planetwise Wipe Pouch</td>\n",
       "      <td>it came early and was not disappointed. i love...</td>\n",
       "      <td>5</td>\n",
       "      <td>{'it': 2, 'came': 1, 'early': 1, 'and': 3, 'wa...</td>\n",
       "      <td>True</td>\n",
       "    </tr>\n",
       "    <tr>\n",
       "      <th>2</th>\n",
       "      <td>Annas Dream Full Quilt with 2 Shams</td>\n",
       "      <td>Very soft and comfortable and warmer than it l...</td>\n",
       "      <td>5</td>\n",
       "      <td>{'Very': 1, 'soft': 1, 'and': 2, 'comfortable'...</td>\n",
       "      <td>True</td>\n",
       "    </tr>\n",
       "    <tr>\n",
       "      <th>3</th>\n",
       "      <td>Stop Pacifier Sucking without tears with Thumb...</td>\n",
       "      <td>This is a product well worth the purchase.  I ...</td>\n",
       "      <td>5</td>\n",
       "      <td>{'This': 1, 'is': 4, 'a': 2, 'product': 2, 'we...</td>\n",
       "      <td>True</td>\n",
       "    </tr>\n",
       "    <tr>\n",
       "      <th>4</th>\n",
       "      <td>Stop Pacifier Sucking without tears with Thumb...</td>\n",
       "      <td>All of my kids have cried non-stop when I trie...</td>\n",
       "      <td>5</td>\n",
       "      <td>{'All': 1, 'of': 1, 'my': 1, 'kids': 2, 'have'...</td>\n",
       "      <td>True</td>\n",
       "    </tr>\n",
       "    <tr>\n",
       "      <th>5</th>\n",
       "      <td>Stop Pacifier Sucking without tears with Thumb...</td>\n",
       "      <td>When the Binky Fairy came to our house, we did...</td>\n",
       "      <td>5</td>\n",
       "      <td>{'When': 1, 'the': 5, 'Binky': 3, 'Fairy': 3, ...</td>\n",
       "      <td>True</td>\n",
       "    </tr>\n",
       "  </tbody>\n",
       "</table>\n",
       "</div>"
      ],
      "text/plain": [
       "                                                name  \\\n",
       "1                              Planetwise Wipe Pouch   \n",
       "2                Annas Dream Full Quilt with 2 Shams   \n",
       "3  Stop Pacifier Sucking without tears with Thumb...   \n",
       "4  Stop Pacifier Sucking without tears with Thumb...   \n",
       "5  Stop Pacifier Sucking without tears with Thumb...   \n",
       "\n",
       "                                              review  rating  \\\n",
       "1  it came early and was not disappointed. i love...       5   \n",
       "2  Very soft and comfortable and warmer than it l...       5   \n",
       "3  This is a product well worth the purchase.  I ...       5   \n",
       "4  All of my kids have cried non-stop when I trie...       5   \n",
       "5  When the Binky Fairy came to our house, we did...       5   \n",
       "\n",
       "                                          word_count  sentiment  \n",
       "1  {'it': 2, 'came': 1, 'early': 1, 'and': 3, 'wa...       True  \n",
       "2  {'Very': 1, 'soft': 1, 'and': 2, 'comfortable'...       True  \n",
       "3  {'This': 1, 'is': 4, 'a': 2, 'product': 2, 'we...       True  \n",
       "4  {'All': 1, 'of': 1, 'my': 1, 'kids': 2, 'have'...       True  \n",
       "5  {'When': 1, 'the': 5, 'Binky': 3, 'Fairy': 3, ...       True  "
      ]
     },
     "execution_count": 15,
     "metadata": {},
     "output_type": "execute_result"
    }
   ],
   "source": [
    "products.head()"
   ]
  },
  {
   "cell_type": "markdown",
   "metadata": {},
   "source": [
    "##Train the sentiment classifier"
   ]
  },
  {
   "cell_type": "code",
   "execution_count": 16,
   "metadata": {},
   "outputs": [],
   "source": [
    "from sklearn.model_selection import train_test_split\n",
    "from sklearn.feature_extraction import DictVectorizer\n",
    "dictVectorizer = DictVectorizer()\n",
    "train_data_dict = dictVectorizer.fit_transform(products['word_count'])\n",
    "x_train, x_test, y_train, y_test = train_test_split(train_data_dict, products.sentiment, test_size=0.2, random_state=0)"
   ]
  },
  {
   "cell_type": "code",
   "execution_count": null,
   "metadata": {},
   "outputs": [
    {
     "name": "stderr",
     "output_type": "stream",
     "text": [
      "C:\\Anaconda3\\lib\\site-packages\\sklearn\\linear_model\\logistic.py:433: FutureWarning: Default solver will be changed to 'lbfgs' in 0.22. Specify a solver to silence this warning.\n",
      "  FutureWarning)\n"
     ]
    }
   ],
   "source": [
    "from sklearn.linear_model import LogisticRegression\n",
    "logisticRegr = LogisticRegression()\n",
    "logisticRegr.fit(x_train, y_train)"
   ]
  },
  {
   "cell_type": "markdown",
   "metadata": {},
   "source": [
    "#Evaluate the sentiment model"
   ]
  },
  {
   "cell_type": "code",
   "execution_count": 28,
   "metadata": {},
   "outputs": [],
   "source": [
    "y_pred = logisticRegr.predict(x_test)"
   ]
  },
  {
   "cell_type": "code",
   "execution_count": 32,
   "metadata": {},
   "outputs": [
    {
     "data": {
      "text/plain": [
       "0.9296272975323079"
      ]
     },
     "execution_count": 32,
     "metadata": {},
     "output_type": "execute_result"
    }
   ],
   "source": [
    "from sklearn import metrics\n",
    "metrics.accuracy_score(y_pred,y_test) "
   ]
  },
  {
   "cell_type": "code",
   "execution_count": 33,
   "metadata": {},
   "outputs": [
    {
     "name": "stdout",
     "output_type": "stream",
     "text": [
      "      |     F       |\n",
      "      |     a     T |\n",
      "      |     l     r |\n",
      "      |     s     u |\n",
      "      |     e     e |\n",
      "------+-------------+\n",
      "False | <3906>  891 |\n",
      " True |  1456<27098>|\n",
      "------+-------------+\n",
      "(row = reference; col = test)\n",
      "\n"
     ]
    }
   ],
   "source": [
    "from nltk import ConfusionMatrix \n",
    "print (ConfusionMatrix(list(y_pred), list(y_test)))"
   ]
  },
  {
   "cell_type": "code",
   "execution_count": 34,
   "metadata": {},
   "outputs": [
    {
     "name": "stdout",
     "output_type": "stream",
     "text": [
      "0.94900889542621\n"
     ]
    }
   ],
   "source": [
    "# sensitivity:\n",
    "print (metrics.recall_score(y_pred, y_test) )"
   ]
  }
 ],
 "metadata": {
  "kernelspec": {
   "display_name": "Python 3",
   "language": "python",
   "name": "python3"
  },
  "language_info": {
   "codemirror_mode": {
    "name": "ipython",
    "version": 3
   },
   "file_extension": ".py",
   "mimetype": "text/x-python",
   "name": "python",
   "nbconvert_exporter": "python",
   "pygments_lexer": "ipython3",
   "version": "3.7.1"
  }
 },
 "nbformat": 4,
 "nbformat_minor": 1
}
